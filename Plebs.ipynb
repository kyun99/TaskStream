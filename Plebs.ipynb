{
  "nbformat": 4,
  "nbformat_minor": 0,
  "metadata": {
    "colab": {
      "name": "Plebs.ipynb",
      "provenance": [],
      "collapsed_sections": [],
      "include_colab_link": true
    },
    "kernelspec": {
      "name": "python3",
      "display_name": "Python 3"
    },
    "language_info": {
      "name": "python"
    },
    "accelerator": "GPU"
  },
  "cells": [
    {
      "cell_type": "markdown",
      "metadata": {
        "id": "view-in-github",
        "colab_type": "text"
      },
      "source": [
        "<a href=\"https://colab.research.google.com/github/kyun99/TaskStream/blob/master/Plebs.ipynb\" target=\"_parent\"><img src=\"https://colab.research.google.com/assets/colab-badge.svg\" alt=\"Open In Colab\"/></a>"
      ]
    },
    {
      "cell_type": "markdown",
      "source": [
        "# To initialise"
      ],
      "metadata": {
        "id": "gJZ7U50QwNz2"
      }
    },
    {
      "cell_type": "code",
      "source": [
        "!pip install tensorflow-text\n",
        "!pip install maltiverse"
      ],
      "metadata": {
        "colab": {
          "base_uri": "https://localhost:8080/"
        },
        "id": "cvI4joZnV8F2",
        "outputId": "c333f63c-b97a-4961-e9fb-3efe3cfb1f32"
      },
      "execution_count": null,
      "outputs": [
        {
          "output_type": "stream",
          "name": "stdout",
          "text": [
            "Collecting tensorflow-text\n",
            "  Downloading tensorflow_text-2.8.1-cp37-cp37m-manylinux_2_12_x86_64.manylinux2010_x86_64.whl (4.9 MB)\n",
            "\u001b[K     |████████████████████████████████| 4.9 MB 5.4 MB/s \n",
            "\u001b[?25hRequirement already satisfied: tensorflow<2.9,>=2.8.0 in /usr/local/lib/python3.7/dist-packages (from tensorflow-text) (2.8.0)\n",
            "Requirement already satisfied: tensorflow-hub>=0.8.0 in /usr/local/lib/python3.7/dist-packages (from tensorflow-text) (0.12.0)\n",
            "Requirement already satisfied: six>=1.12.0 in /usr/local/lib/python3.7/dist-packages (from tensorflow<2.9,>=2.8.0->tensorflow-text) (1.15.0)\n",
            "Requirement already satisfied: tensorboard<2.9,>=2.8 in /usr/local/lib/python3.7/dist-packages (from tensorflow<2.9,>=2.8.0->tensorflow-text) (2.8.0)\n",
            "Requirement already satisfied: tensorflow-io-gcs-filesystem>=0.23.1 in /usr/local/lib/python3.7/dist-packages (from tensorflow<2.9,>=2.8.0->tensorflow-text) (0.24.0)\n",
            "Requirement already satisfied: opt-einsum>=2.3.2 in /usr/local/lib/python3.7/dist-packages (from tensorflow<2.9,>=2.8.0->tensorflow-text) (3.3.0)\n",
            "Requirement already satisfied: wrapt>=1.11.0 in /usr/local/lib/python3.7/dist-packages (from tensorflow<2.9,>=2.8.0->tensorflow-text) (1.13.3)\n",
            "Requirement already satisfied: typing-extensions>=3.6.6 in /usr/local/lib/python3.7/dist-packages (from tensorflow<2.9,>=2.8.0->tensorflow-text) (3.10.0.2)\n",
            "Collecting tf-estimator-nightly==2.8.0.dev2021122109\n",
            "  Downloading tf_estimator_nightly-2.8.0.dev2021122109-py2.py3-none-any.whl (462 kB)\n",
            "\u001b[K     |████████████████████████████████| 462 kB 48.4 MB/s \n",
            "\u001b[?25hRequirement already satisfied: absl-py>=0.4.0 in /usr/local/lib/python3.7/dist-packages (from tensorflow<2.9,>=2.8.0->tensorflow-text) (1.0.0)\n",
            "Requirement already satisfied: numpy>=1.20 in /usr/local/lib/python3.7/dist-packages (from tensorflow<2.9,>=2.8.0->tensorflow-text) (1.21.5)\n",
            "Requirement already satisfied: astunparse>=1.6.0 in /usr/local/lib/python3.7/dist-packages (from tensorflow<2.9,>=2.8.0->tensorflow-text) (1.6.3)\n",
            "Requirement already satisfied: flatbuffers>=1.12 in /usr/local/lib/python3.7/dist-packages (from tensorflow<2.9,>=2.8.0->tensorflow-text) (2.0)\n",
            "Requirement already satisfied: google-pasta>=0.1.1 in /usr/local/lib/python3.7/dist-packages (from tensorflow<2.9,>=2.8.0->tensorflow-text) (0.2.0)\n",
            "Requirement already satisfied: libclang>=9.0.1 in /usr/local/lib/python3.7/dist-packages (from tensorflow<2.9,>=2.8.0->tensorflow-text) (13.0.0)\n",
            "Requirement already satisfied: grpcio<2.0,>=1.24.3 in /usr/local/lib/python3.7/dist-packages (from tensorflow<2.9,>=2.8.0->tensorflow-text) (1.43.0)\n",
            "Requirement already satisfied: h5py>=2.9.0 in /usr/local/lib/python3.7/dist-packages (from tensorflow<2.9,>=2.8.0->tensorflow-text) (3.1.0)\n",
            "Requirement already satisfied: gast>=0.2.1 in /usr/local/lib/python3.7/dist-packages (from tensorflow<2.9,>=2.8.0->tensorflow-text) (0.5.3)\n",
            "Requirement already satisfied: keras<2.9,>=2.8.0rc0 in /usr/local/lib/python3.7/dist-packages (from tensorflow<2.9,>=2.8.0->tensorflow-text) (2.8.0)\n",
            "Requirement already satisfied: protobuf>=3.9.2 in /usr/local/lib/python3.7/dist-packages (from tensorflow<2.9,>=2.8.0->tensorflow-text) (3.17.3)\n",
            "Requirement already satisfied: termcolor>=1.1.0 in /usr/local/lib/python3.7/dist-packages (from tensorflow<2.9,>=2.8.0->tensorflow-text) (1.1.0)\n",
            "Requirement already satisfied: setuptools in /usr/local/lib/python3.7/dist-packages (from tensorflow<2.9,>=2.8.0->tensorflow-text) (57.4.0)\n",
            "Requirement already satisfied: keras-preprocessing>=1.1.1 in /usr/local/lib/python3.7/dist-packages (from tensorflow<2.9,>=2.8.0->tensorflow-text) (1.1.2)\n",
            "Requirement already satisfied: wheel<1.0,>=0.23.0 in /usr/local/lib/python3.7/dist-packages (from astunparse>=1.6.0->tensorflow<2.9,>=2.8.0->tensorflow-text) (0.37.1)\n",
            "Requirement already satisfied: cached-property in /usr/local/lib/python3.7/dist-packages (from h5py>=2.9.0->tensorflow<2.9,>=2.8.0->tensorflow-text) (1.5.2)\n",
            "Requirement already satisfied: tensorboard-data-server<0.7.0,>=0.6.0 in /usr/local/lib/python3.7/dist-packages (from tensorboard<2.9,>=2.8->tensorflow<2.9,>=2.8.0->tensorflow-text) (0.6.1)\n",
            "Requirement already satisfied: werkzeug>=0.11.15 in /usr/local/lib/python3.7/dist-packages (from tensorboard<2.9,>=2.8->tensorflow<2.9,>=2.8.0->tensorflow-text) (1.0.1)\n",
            "Requirement already satisfied: tensorboard-plugin-wit>=1.6.0 in /usr/local/lib/python3.7/dist-packages (from tensorboard<2.9,>=2.8->tensorflow<2.9,>=2.8.0->tensorflow-text) (1.8.1)\n",
            "Requirement already satisfied: requests<3,>=2.21.0 in /usr/local/lib/python3.7/dist-packages (from tensorboard<2.9,>=2.8->tensorflow<2.9,>=2.8.0->tensorflow-text) (2.23.0)\n",
            "Requirement already satisfied: google-auth<3,>=1.6.3 in /usr/local/lib/python3.7/dist-packages (from tensorboard<2.9,>=2.8->tensorflow<2.9,>=2.8.0->tensorflow-text) (1.35.0)\n",
            "Requirement already satisfied: google-auth-oauthlib<0.5,>=0.4.1 in /usr/local/lib/python3.7/dist-packages (from tensorboard<2.9,>=2.8->tensorflow<2.9,>=2.8.0->tensorflow-text) (0.4.6)\n",
            "Requirement already satisfied: markdown>=2.6.8 in /usr/local/lib/python3.7/dist-packages (from tensorboard<2.9,>=2.8->tensorflow<2.9,>=2.8.0->tensorflow-text) (3.3.6)\n",
            "Requirement already satisfied: rsa<5,>=3.1.4 in /usr/local/lib/python3.7/dist-packages (from google-auth<3,>=1.6.3->tensorboard<2.9,>=2.8->tensorflow<2.9,>=2.8.0->tensorflow-text) (4.8)\n",
            "Requirement already satisfied: pyasn1-modules>=0.2.1 in /usr/local/lib/python3.7/dist-packages (from google-auth<3,>=1.6.3->tensorboard<2.9,>=2.8->tensorflow<2.9,>=2.8.0->tensorflow-text) (0.2.8)\n",
            "Requirement already satisfied: cachetools<5.0,>=2.0.0 in /usr/local/lib/python3.7/dist-packages (from google-auth<3,>=1.6.3->tensorboard<2.9,>=2.8->tensorflow<2.9,>=2.8.0->tensorflow-text) (4.2.4)\n",
            "Requirement already satisfied: requests-oauthlib>=0.7.0 in /usr/local/lib/python3.7/dist-packages (from google-auth-oauthlib<0.5,>=0.4.1->tensorboard<2.9,>=2.8->tensorflow<2.9,>=2.8.0->tensorflow-text) (1.3.1)\n",
            "Requirement already satisfied: importlib-metadata>=4.4 in /usr/local/lib/python3.7/dist-packages (from markdown>=2.6.8->tensorboard<2.9,>=2.8->tensorflow<2.9,>=2.8.0->tensorflow-text) (4.11.1)\n",
            "Requirement already satisfied: zipp>=0.5 in /usr/local/lib/python3.7/dist-packages (from importlib-metadata>=4.4->markdown>=2.6.8->tensorboard<2.9,>=2.8->tensorflow<2.9,>=2.8.0->tensorflow-text) (3.7.0)\n",
            "Requirement already satisfied: pyasn1<0.5.0,>=0.4.6 in /usr/local/lib/python3.7/dist-packages (from pyasn1-modules>=0.2.1->google-auth<3,>=1.6.3->tensorboard<2.9,>=2.8->tensorflow<2.9,>=2.8.0->tensorflow-text) (0.4.8)\n",
            "Requirement already satisfied: idna<3,>=2.5 in /usr/local/lib/python3.7/dist-packages (from requests<3,>=2.21.0->tensorboard<2.9,>=2.8->tensorflow<2.9,>=2.8.0->tensorflow-text) (2.10)\n",
            "Requirement already satisfied: urllib3!=1.25.0,!=1.25.1,<1.26,>=1.21.1 in /usr/local/lib/python3.7/dist-packages (from requests<3,>=2.21.0->tensorboard<2.9,>=2.8->tensorflow<2.9,>=2.8.0->tensorflow-text) (1.24.3)\n",
            "Requirement already satisfied: chardet<4,>=3.0.2 in /usr/local/lib/python3.7/dist-packages (from requests<3,>=2.21.0->tensorboard<2.9,>=2.8->tensorflow<2.9,>=2.8.0->tensorflow-text) (3.0.4)\n",
            "Requirement already satisfied: certifi>=2017.4.17 in /usr/local/lib/python3.7/dist-packages (from requests<3,>=2.21.0->tensorboard<2.9,>=2.8->tensorflow<2.9,>=2.8.0->tensorflow-text) (2021.10.8)\n",
            "Requirement already satisfied: oauthlib>=3.0.0 in /usr/local/lib/python3.7/dist-packages (from requests-oauthlib>=0.7.0->google-auth-oauthlib<0.5,>=0.4.1->tensorboard<2.9,>=2.8->tensorflow<2.9,>=2.8.0->tensorflow-text) (3.2.0)\n",
            "Installing collected packages: tf-estimator-nightly, tensorflow-text\n",
            "Successfully installed tensorflow-text-2.8.1 tf-estimator-nightly-2.8.0.dev2021122109\n",
            "Collecting maltiverse\n",
            "  Downloading maltiverse-1.0.0.tar.gz (3.8 kB)\n",
            "Requirement already satisfied: requests in /usr/local/lib/python3.7/dist-packages (from maltiverse) (2.23.0)\n",
            "Collecting PyJWT\n",
            "  Downloading PyJWT-2.3.0-py3-none-any.whl (16 kB)\n",
            "Requirement already satisfied: chardet<4,>=3.0.2 in /usr/local/lib/python3.7/dist-packages (from requests->maltiverse) (3.0.4)\n",
            "Requirement already satisfied: certifi>=2017.4.17 in /usr/local/lib/python3.7/dist-packages (from requests->maltiverse) (2021.10.8)\n",
            "Requirement already satisfied: urllib3!=1.25.0,!=1.25.1,<1.26,>=1.21.1 in /usr/local/lib/python3.7/dist-packages (from requests->maltiverse) (1.24.3)\n",
            "Requirement already satisfied: idna<3,>=2.5 in /usr/local/lib/python3.7/dist-packages (from requests->maltiverse) (2.10)\n",
            "Building wheels for collected packages: maltiverse\n",
            "  Building wheel for maltiverse (setup.py) ... \u001b[?25l\u001b[?25hdone\n",
            "  Created wheel for maltiverse: filename=maltiverse-1.0.0-py3-none-any.whl size=4906 sha256=2b2b131fb60e1dbe1a14f45528b8931c496d7a8081bf8fce8bd4933d524b6e01\n",
            "  Stored in directory: /root/.cache/pip/wheels/51/1b/86/28ecd5e89b517432ab302118dbef016b0000c20dba6c42ca61\n",
            "Successfully built maltiverse\n",
            "Installing collected packages: PyJWT, maltiverse\n",
            "Successfully installed PyJWT-2.3.0 maltiverse-1.0.0\n"
          ]
        }
      ]
    },
    {
      "cell_type": "code",
      "source": [
        "!pip freeze > kaggle_image_requirements.txt"
      ],
      "metadata": {
        "id": "qZqgFM03V-zp"
      },
      "execution_count": null,
      "outputs": []
    },
    {
      "cell_type": "code",
      "source": [
        "import tensorflow as tf\n",
        "import tensorflow_hub as hub\n",
        "import tensorflow_text\n",
        "import os\n",
        "import re\n",
        "import pandas as pd\n",
        "import numpy as np\n",
        "from tqdm import tqdm\n",
        "import smtplib\n",
        "import imaplib\n",
        "import email\n",
        "import nltk\n",
        "import requests\n",
        "from bs4 import BeautifulSoup\n",
        "from maltiverse import Maltiverse\n",
        "import json\n",
        "import time\n",
        "import random\n",
        "import matplotlib.pyplot as plt\n",
        "from email.message import EmailMessage\n",
        "import secretKeys\n",
        "from tensorflow import keras\n"
      ],
      "metadata": {
        "id": "ikWwVe65WCs8"
      },
      "execution_count": 4,
      "outputs": []
    },
    {
      "cell_type": "code",
      "source": [
        "def get_body(msg):\n",
        "    if msg.is_multipart():\n",
        "        return get_body(msg.get_payload(0))\n",
        "    else:\n",
        "        return msg.get_payload(None,True)"
      ],
      "metadata": {
        "id": "GAS9-6ffw8Xw"
      },
      "execution_count": 5,
      "outputs": []
    },
    {
      "cell_type": "code",
      "source": [
        "def response(verdict, raw, user, user_pass):\n",
        "  msg = EmailMessage()\n",
        "  msg.set_content(\"The message sent is rated to be \" + verdict)\n",
        "\n",
        "  msg['Subject'] = 'Suspicious email rating'\n",
        "  msg['From'] = user\n",
        "  msg['To'] =  [raw[\"from\"]]\n",
        "  server = smtplib.SMTP_SSL('smtp.gmail.com', 465)\n",
        "  server.login(user, user_pass)\n",
        "  server.send_message(msg)\n",
        "  server.close()"
      ],
      "metadata": {
        "id": "27ooegVMEthK"
      },
      "execution_count": 6,
      "outputs": []
    },
    {
      "cell_type": "code",
      "source": [
        "# Params for bert model and tokenization\n",
        "Nsamp = 1000 # number of samples to generate in each class - 'spam', 'not spam'\n",
        "maxtokens = 200 # the maximum number of tokens per document\n",
        "maxtokenlen = 100 # the maximum length of each token"
      ],
      "metadata": {
        "id": "OAKnQDX8xdBw"
      },
      "execution_count": 7,
      "outputs": []
    },
    {
      "cell_type": "code",
      "source": [
        "def tokenize(row):\n",
        "    if row is None or row is '':\n",
        "        tokens = \"\"\n",
        "    else:\n",
        "        try:\n",
        "            tokens = row.split(\" \")[:maxtokens]\n",
        "        except:\n",
        "            tokens=\"\"\n",
        "    return tokens"
      ],
      "metadata": {
        "id": "VdiNog4wxoF9"
      },
      "execution_count": 8,
      "outputs": []
    },
    {
      "cell_type": "code",
      "source": [
        "def reg_expressions(row):\n",
        "    tokens = []\n",
        "    try:\n",
        "        for token in row:\n",
        "            token = token.lower()\n",
        "            token = re.sub(r'[\\W\\d]', \"\", token)\n",
        "            token = token[:maxtokenlen] # truncate token\n",
        "            tokens.append(token)\n",
        "    except:\n",
        "        token = \"\"\n",
        "        tokens.append(token)\n",
        "    return tokens"
      ],
      "metadata": {
        "id": "TozxD08hxqxg"
      },
      "execution_count": 9,
      "outputs": []
    },
    {
      "cell_type": "code",
      "source": [
        "nltk.download('stopwords')\n",
        "from nltk.corpus import stopwords\n",
        "stopwords = stopwords.words('english')    \n",
        "print(stopwords) # see default stopwords\n",
        "\n",
        "def stop_word_removal(row):\n",
        "    token = [token for token in row if token not in stopwords]\n",
        "    token = filter(None, token)\n",
        "    return token"
      ],
      "metadata": {
        "colab": {
          "base_uri": "https://localhost:8080/"
        },
        "id": "I0qu2bpwxsc4",
        "outputId": "72ef4222-3e7b-4d64-ee48-789dd91e71cb"
      },
      "execution_count": 10,
      "outputs": [
        {
          "output_type": "stream",
          "name": "stdout",
          "text": [
            "[nltk_data] Downloading package stopwords to /root/nltk_data...\n",
            "[nltk_data]   Unzipping corpora/stopwords.zip.\n",
            "['i', 'me', 'my', 'myself', 'we', 'our', 'ours', 'ourselves', 'you', \"you're\", \"you've\", \"you'll\", \"you'd\", 'your', 'yours', 'yourself', 'yourselves', 'he', 'him', 'his', 'himself', 'she', \"she's\", 'her', 'hers', 'herself', 'it', \"it's\", 'its', 'itself', 'they', 'them', 'their', 'theirs', 'themselves', 'what', 'which', 'who', 'whom', 'this', 'that', \"that'll\", 'these', 'those', 'am', 'is', 'are', 'was', 'were', 'be', 'been', 'being', 'have', 'has', 'had', 'having', 'do', 'does', 'did', 'doing', 'a', 'an', 'the', 'and', 'but', 'if', 'or', 'because', 'as', 'until', 'while', 'of', 'at', 'by', 'for', 'with', 'about', 'against', 'between', 'into', 'through', 'during', 'before', 'after', 'above', 'below', 'to', 'from', 'up', 'down', 'in', 'out', 'on', 'off', 'over', 'under', 'again', 'further', 'then', 'once', 'here', 'there', 'when', 'where', 'why', 'how', 'all', 'any', 'both', 'each', 'few', 'more', 'most', 'other', 'some', 'such', 'no', 'nor', 'not', 'only', 'own', 'same', 'so', 'than', 'too', 'very', 's', 't', 'can', 'will', 'just', 'don', \"don't\", 'should', \"should've\", 'now', 'd', 'll', 'm', 'o', 're', 've', 'y', 'ain', 'aren', \"aren't\", 'couldn', \"couldn't\", 'didn', \"didn't\", 'doesn', \"doesn't\", 'hadn', \"hadn't\", 'hasn', \"hasn't\", 'haven', \"haven't\", 'isn', \"isn't\", 'ma', 'mightn', \"mightn't\", 'mustn', \"mustn't\", 'needn', \"needn't\", 'shan', \"shan't\", 'shouldn', \"shouldn't\", 'wasn', \"wasn't\", 'weren', \"weren't\", 'won', \"won't\", 'wouldn', \"wouldn't\"]\n"
          ]
        }
      ]
    },
    {
      "cell_type": "code",
      "source": [
        "emails = pd.read_csv(\"/content/emails.csv\", engine=\"python\", error_bad_lines=False)\n",
        "\n",
        "print(\"Successfully loaded {} rows and {} columns!\".format(emails.shape[0], emails.shape[1]))\n",
        "print(emails.head())"
      ],
      "metadata": {
        "colab": {
          "base_uri": "https://localhost:8080/"
        },
        "id": "MPfUB9D-AR7P",
        "outputId": "ee9fbd26-7491-4050-b254-21b6f2386274"
      },
      "execution_count": 12,
      "outputs": [
        {
          "output_type": "stream",
          "name": "stderr",
          "text": [
            "/usr/local/lib/python3.7/dist-packages/IPython/core/interactiveshell.py:2882: FutureWarning: The error_bad_lines argument has been deprecated and will be removed in a future version.\n",
            "\n",
            "\n",
            "  exec(code_obj, self.user_global_ns, self.user_ns)\n",
            "Skipping line 18226: field larger than field limit (131072)\n",
            "Skipping line 20082: ',' expected after '\"'\n"
          ]
        },
        {
          "output_type": "stream",
          "name": "stdout",
          "text": [
            "Successfully loaded 25747 rows and 2 columns!\n",
            "                       file                                            message\n",
            "0     allen-p/_sent_mail/1.  Message-ID: <18782981.1075855378110.JavaMail.e...\n",
            "1    allen-p/_sent_mail/10.  Message-ID: <15464986.1075855378456.JavaMail.e...\n",
            "2   allen-p/_sent_mail/100.  Message-ID: <24216240.1075855687451.JavaMail.e...\n",
            "3  allen-p/_sent_mail/1000.  Message-ID: <13505866.1075863688222.JavaMail.e...\n",
            "4  allen-p/_sent_mail/1001.  Message-ID: <30922949.1075863688243.JavaMail.e...\n"
          ]
        },
        {
          "output_type": "stream",
          "name": "stderr",
          "text": [
            "Skipping line 25762: unexpected end of data\n",
            "Skipping line 20098: Expected 2 fields in line 20098, saw 5\n",
            "Skipping line 20099: Expected 2 fields in line 20099, saw 5\n"
          ]
        }
      ]
    },
    {
      "cell_type": "code",
      "source": [
        "def extract_messages(df):\n",
        "    messages = []\n",
        "    for item in df[\"message\"]:\n",
        "        # Return a message object structure from a string\n",
        "        e = email.message_from_string(item)    \n",
        "        # get message body  \n",
        "        message_body = e.get_payload()\n",
        "        messages.append(message_body)\n",
        "    print(\"Successfully retrieved message body from e-mails!\")\n",
        "    return messages\n",
        "\n",
        "bodies = extract_messages(emails)"
      ],
      "metadata": {
        "colab": {
          "base_uri": "https://localhost:8080/"
        },
        "id": "-BGdKOfsAYe4",
        "outputId": "00926e1e-a675-4387-f66f-845c822d4e3e"
      },
      "execution_count": 13,
      "outputs": [
        {
          "output_type": "stream",
          "name": "stdout",
          "text": [
            "Successfully retrieved message body from e-mails!\n"
          ]
        }
      ]
    },
    {
      "cell_type": "code",
      "source": [
        "bodies_df = pd.DataFrame(random.sample(bodies, 10000))\n",
        "\n",
        "# expand default pandas display options to make emails more clearly visible when printed\n",
        "pd.set_option('display.max_colwidth', 300)\n",
        "\n",
        "bodies_df.head() # you could do print(bodies_df.head()), but Jupyter displays this nicer for pandas DataFrames"
      ],
      "metadata": {
        "colab": {
          "base_uri": "https://localhost:8080/",
          "height": 337
        },
        "id": "DXnVbVxQAa73",
        "outputId": "a11d0fdb-0739-4d3a-e354-be4939e8f7c9"
      },
      "execution_count": 14,
      "outputs": [
        {
          "output_type": "execute_result",
          "data": {
            "text/html": [
              "\n",
              "  <div id=\"df-1a72c33e-5320-408a-8ffa-2de29ab35ece\">\n",
              "    <div class=\"colab-df-container\">\n",
              "      <div>\n",
              "<style scoped>\n",
              "    .dataframe tbody tr th:only-of-type {\n",
              "        vertical-align: middle;\n",
              "    }\n",
              "\n",
              "    .dataframe tbody tr th {\n",
              "        vertical-align: top;\n",
              "    }\n",
              "\n",
              "    .dataframe thead th {\n",
              "        text-align: right;\n",
              "    }\n",
              "</style>\n",
              "<table border=\"1\" class=\"dataframe\">\n",
              "  <thead>\n",
              "    <tr style=\"text-align: right;\">\n",
              "      <th></th>\n",
              "      <th>0</th>\n",
              "    </tr>\n",
              "  </thead>\n",
              "  <tbody>\n",
              "    <tr>\n",
              "      <th>0</th>\n",
              "      <td>we had said we were going to vote on trades. we have had our first trade.  \\nsome people have come to me requesting a vote\\n\\n\\nplease go to the website and vote on the trade between the the Lie Downs and \\nthe Rounders</td>\n",
              "    </tr>\n",
              "    <tr>\n",
              "      <th>1</th>\n",
              "      <td>November 21, 2000\\n\\n\\nThis week's Click 'n Save Email Update is a\\nreminder of the great $99/$109 or less each way\\nCoast-to-Coast southwest.com Only Specials\\n\\nYour Invitation to e-Freedom still stands.\\nGobble It Up!\\n\\n********* southwest.com e-Freedom Sale *********\\n\\nWho: southwest.com C...</td>\n",
              "    </tr>\n",
              "    <tr>\n",
              "      <th>2</th>\n",
              "      <td>Assigned to: CN=Jeff Arnold/OU=GCO/O=Enron\\nUpdated by: CN=Jeff Arnold/OU=GCO/O=Enron</td>\n",
              "    </tr>\n",
              "    <tr>\n",
              "      <th>3</th>\n",
              "      <td>In my new role as social secretary for James, I wanted to let you know that \\nhe will be in London next week on business.  He will arrive on Monday morning \\n(February 5) and should be in the Enron office  most of the day on Monday, \\nTuesday and Wednesday.  He will fly back to Houston on Thursd...</td>\n",
              "    </tr>\n",
              "    <tr>\n",
              "      <th>4</th>\n",
              "      <td>FYI...The daily numbers for 2000 do not include middle market orig.  For 2001,  they are inclusive of middle market orig.</td>\n",
              "    </tr>\n",
              "  </tbody>\n",
              "</table>\n",
              "</div>\n",
              "      <button class=\"colab-df-convert\" onclick=\"convertToInteractive('df-1a72c33e-5320-408a-8ffa-2de29ab35ece')\"\n",
              "              title=\"Convert this dataframe to an interactive table.\"\n",
              "              style=\"display:none;\">\n",
              "        \n",
              "  <svg xmlns=\"http://www.w3.org/2000/svg\" height=\"24px\"viewBox=\"0 0 24 24\"\n",
              "       width=\"24px\">\n",
              "    <path d=\"M0 0h24v24H0V0z\" fill=\"none\"/>\n",
              "    <path d=\"M18.56 5.44l.94 2.06.94-2.06 2.06-.94-2.06-.94-.94-2.06-.94 2.06-2.06.94zm-11 1L8.5 8.5l.94-2.06 2.06-.94-2.06-.94L8.5 2.5l-.94 2.06-2.06.94zm10 10l.94 2.06.94-2.06 2.06-.94-2.06-.94-.94-2.06-.94 2.06-2.06.94z\"/><path d=\"M17.41 7.96l-1.37-1.37c-.4-.4-.92-.59-1.43-.59-.52 0-1.04.2-1.43.59L10.3 9.45l-7.72 7.72c-.78.78-.78 2.05 0 2.83L4 21.41c.39.39.9.59 1.41.59.51 0 1.02-.2 1.41-.59l7.78-7.78 2.81-2.81c.8-.78.8-2.07 0-2.86zM5.41 20L4 18.59l7.72-7.72 1.47 1.35L5.41 20z\"/>\n",
              "  </svg>\n",
              "      </button>\n",
              "      \n",
              "  <style>\n",
              "    .colab-df-container {\n",
              "      display:flex;\n",
              "      flex-wrap:wrap;\n",
              "      gap: 12px;\n",
              "    }\n",
              "\n",
              "    .colab-df-convert {\n",
              "      background-color: #E8F0FE;\n",
              "      border: none;\n",
              "      border-radius: 50%;\n",
              "      cursor: pointer;\n",
              "      display: none;\n",
              "      fill: #1967D2;\n",
              "      height: 32px;\n",
              "      padding: 0 0 0 0;\n",
              "      width: 32px;\n",
              "    }\n",
              "\n",
              "    .colab-df-convert:hover {\n",
              "      background-color: #E2EBFA;\n",
              "      box-shadow: 0px 1px 2px rgba(60, 64, 67, 0.3), 0px 1px 3px 1px rgba(60, 64, 67, 0.15);\n",
              "      fill: #174EA6;\n",
              "    }\n",
              "\n",
              "    [theme=dark] .colab-df-convert {\n",
              "      background-color: #3B4455;\n",
              "      fill: #D2E3FC;\n",
              "    }\n",
              "\n",
              "    [theme=dark] .colab-df-convert:hover {\n",
              "      background-color: #434B5C;\n",
              "      box-shadow: 0px 1px 3px 1px rgba(0, 0, 0, 0.15);\n",
              "      filter: drop-shadow(0px 1px 2px rgba(0, 0, 0, 0.3));\n",
              "      fill: #FFFFFF;\n",
              "    }\n",
              "  </style>\n",
              "\n",
              "      <script>\n",
              "        const buttonEl =\n",
              "          document.querySelector('#df-1a72c33e-5320-408a-8ffa-2de29ab35ece button.colab-df-convert');\n",
              "        buttonEl.style.display =\n",
              "          google.colab.kernel.accessAllowed ? 'block' : 'none';\n",
              "\n",
              "        async function convertToInteractive(key) {\n",
              "          const element = document.querySelector('#df-1a72c33e-5320-408a-8ffa-2de29ab35ece');\n",
              "          const dataTable =\n",
              "            await google.colab.kernel.invokeFunction('convertToInteractive',\n",
              "                                                     [key], {});\n",
              "          if (!dataTable) return;\n",
              "\n",
              "          const docLinkHtml = 'Like what you see? Visit the ' +\n",
              "            '<a target=\"_blank\" href=https://colab.research.google.com/notebooks/data_table.ipynb>data table notebook</a>'\n",
              "            + ' to learn more about interactive tables.';\n",
              "          element.innerHTML = '';\n",
              "          dataTable['output_type'] = 'display_data';\n",
              "          await google.colab.output.renderOutput(dataTable, element);\n",
              "          const docLink = document.createElement('div');\n",
              "          docLink.innerHTML = docLinkHtml;\n",
              "          element.appendChild(docLink);\n",
              "        }\n",
              "      </script>\n",
              "    </div>\n",
              "  </div>\n",
              "  "
            ],
            "text/plain": [
              "                                                                                                                                                                                                                                                                                                             0\n",
              "0                                                                                  we had said we were going to vote on trades. we have had our first trade.  \\nsome people have come to me requesting a vote\\n\\n\\nplease go to the website and vote on the trade between the the Lie Downs and \\nthe Rounders\n",
              "1  November 21, 2000\\n\\n\\nThis week's Click 'n Save Email Update is a\\nreminder of the great $99/$109 or less each way\\nCoast-to-Coast southwest.com Only Specials\\n\\nYour Invitation to e-Freedom still stands.\\nGobble It Up!\\n\\n********* southwest.com e-Freedom Sale *********\\n\\nWho: southwest.com C...\n",
              "2                                                                                                                                                                                                                        Assigned to: CN=Jeff Arnold/OU=GCO/O=Enron\\nUpdated by: CN=Jeff Arnold/OU=GCO/O=Enron\n",
              "3  In my new role as social secretary for James, I wanted to let you know that \\nhe will be in London next week on business.  He will arrive on Monday morning \\n(February 5) and should be in the Enron office  most of the day on Monday, \\nTuesday and Wednesday.  He will fly back to Houston on Thursd...\n",
              "4                                                                                                                                                                                   FYI...The daily numbers for 2000 do not include middle market orig.  For 2001,  they are inclusive of middle market orig. "
            ]
          },
          "metadata": {},
          "execution_count": 14
        }
      ]
    },
    {
      "cell_type": "code",
      "source": [
        "filepath = \"/content/fradulent_emails.txt\"\n",
        "with open(filepath, 'r',encoding=\"latin1\") as file:\n",
        "    data = file.read()\n",
        "    \n",
        "# split on a code word appearing close to the beginning of each email\n",
        "fraud_emails = data.split(\"From r\")\n",
        "\n",
        "print(\"Successfully loaded {} spam emails!\".format(len(fraud_emails)))"
      ],
      "metadata": {
        "colab": {
          "base_uri": "https://localhost:8080/"
        },
        "id": "jf0UBIUkAfbE",
        "outputId": "d792d2ff-00f4-472c-d564-ac9d7e1210d1"
      },
      "execution_count": 24,
      "outputs": [
        {
          "output_type": "stream",
          "name": "stdout",
          "text": [
            "Successfully loaded 3978 spam emails!\n"
          ]
        }
      ]
    },
    {
      "cell_type": "code",
      "source": [
        "fraud_bodies = extract_messages(pd.DataFrame(fraud_emails,columns=[\"message\"],dtype=str))\n",
        "fraud_bodies_df = pd.DataFrame(fraud_bodies[1:])\n",
        "\n",
        "fraud_bodies_df.head() # you could do print(fraud_bodies_df.head()), but Jupyter displays this nicer for pandas DataFrames"
      ],
      "metadata": {
        "colab": {
          "base_uri": "https://localhost:8080/",
          "height": 441
        },
        "id": "CNqiJuVPAhPC",
        "outputId": "0e660941-e5e1-453d-ac28-b416ed0a7392"
      },
      "execution_count": 25,
      "outputs": [
        {
          "output_type": "stream",
          "name": "stdout",
          "text": [
            "Successfully retrieved message body from e-mails!\n"
          ]
        },
        {
          "output_type": "execute_result",
          "data": {
            "text/html": [
              "\n",
              "  <div id=\"df-616b198d-4e78-435c-8d7f-9fe72648d693\">\n",
              "    <div class=\"colab-df-container\">\n",
              "      <div>\n",
              "<style scoped>\n",
              "    .dataframe tbody tr th:only-of-type {\n",
              "        vertical-align: middle;\n",
              "    }\n",
              "\n",
              "    .dataframe tbody tr th {\n",
              "        vertical-align: top;\n",
              "    }\n",
              "\n",
              "    .dataframe thead th {\n",
              "        text-align: right;\n",
              "    }\n",
              "</style>\n",
              "<table border=\"1\" class=\"dataframe\">\n",
              "  <thead>\n",
              "    <tr style=\"text-align: right;\">\n",
              "      <th></th>\n",
              "      <th>0</th>\n",
              "    </tr>\n",
              "  </thead>\n",
              "  <tbody>\n",
              "    <tr>\n",
              "      <th>0</th>\n",
              "      <td>FROM:MR. JAMES NGOLA.\\nCONFIDENTIAL TEL: 233-27-587908.\\nE-MAIL: (james_ngola2002@maktoob.com).\\n\\nURGENT BUSINESS ASSISTANCE AND PARTNERSHIP.\\n\\n\\nDEAR FRIEND,\\n\\nI AM ( DR.) JAMES NGOLA, THE PERSONAL ASSISTANCE TO THE LATE CONGOLESE (PRESIDENT LAURENT KABILA) WHO WAS ASSASSINATED BY HIS BODY G...</td>\n",
              "    </tr>\n",
              "    <tr>\n",
              "      <th>1</th>\n",
              "      <td>Dear Friend,\\n\\nI am Mr. Ben Suleman a custom officer and work as Assistant controller of the Customs and Excise department Of the Federal Ministry of Internal Affairs stationed at the Murtala Mohammed International Airport, Ikeja, Lagos-Nigeria.\\n\\nAfter the sudden death of the former Head of s...</td>\n",
              "    </tr>\n",
              "    <tr>\n",
              "      <th>2</th>\n",
              "      <td>FROM HIS ROYAL MAJESTY (HRM) CROWN RULER OF ELEME KINGDOM \\nCHIEF DANIEL ELEME, PHD, EZE 1 OF ELEME.E-MAIL \\nADDRESS:obong_715@epatra.com  \\n\\nATTENTION:PRESIDENT,CEO Sir/ Madam. \\n\\nThis letter might surprise you because we have met\\nneither in person nor by correspondence. But I believe\\nit is...</td>\n",
              "    </tr>\n",
              "    <tr>\n",
              "      <th>3</th>\n",
              "      <td>FROM HIS ROYAL MAJESTY (HRM) CROWN RULER OF ELEME KINGDOM \\nCHIEF DANIEL ELEME, PHD, EZE 1 OF ELEME.E-MAIL \\nADDRESS:obong_715@epatra.com  \\n\\nATTENTION:PRESIDENT,CEO Sir/ Madam. \\n\\nThis letter might surprise you because we have met\\nneither in person nor by correspondence. But I believe\\nit is...</td>\n",
              "    </tr>\n",
              "    <tr>\n",
              "      <th>4</th>\n",
              "      <td>Dear sir, \\n \\nIt is with a heart full of hope that I write to seek your help in respect of the context below. I am Mrs. Maryam Abacha the former first lady of the former Military Head of State of Nigeria General Sani Abacha whose sudden death occurred on 8th of June 1998 as a result of cardiac ...</td>\n",
              "    </tr>\n",
              "  </tbody>\n",
              "</table>\n",
              "</div>\n",
              "      <button class=\"colab-df-convert\" onclick=\"convertToInteractive('df-616b198d-4e78-435c-8d7f-9fe72648d693')\"\n",
              "              title=\"Convert this dataframe to an interactive table.\"\n",
              "              style=\"display:none;\">\n",
              "        \n",
              "  <svg xmlns=\"http://www.w3.org/2000/svg\" height=\"24px\"viewBox=\"0 0 24 24\"\n",
              "       width=\"24px\">\n",
              "    <path d=\"M0 0h24v24H0V0z\" fill=\"none\"/>\n",
              "    <path d=\"M18.56 5.44l.94 2.06.94-2.06 2.06-.94-2.06-.94-.94-2.06-.94 2.06-2.06.94zm-11 1L8.5 8.5l.94-2.06 2.06-.94-2.06-.94L8.5 2.5l-.94 2.06-2.06.94zm10 10l.94 2.06.94-2.06 2.06-.94-2.06-.94-.94-2.06-.94 2.06-2.06.94z\"/><path d=\"M17.41 7.96l-1.37-1.37c-.4-.4-.92-.59-1.43-.59-.52 0-1.04.2-1.43.59L10.3 9.45l-7.72 7.72c-.78.78-.78 2.05 0 2.83L4 21.41c.39.39.9.59 1.41.59.51 0 1.02-.2 1.41-.59l7.78-7.78 2.81-2.81c.8-.78.8-2.07 0-2.86zM5.41 20L4 18.59l7.72-7.72 1.47 1.35L5.41 20z\"/>\n",
              "  </svg>\n",
              "      </button>\n",
              "      \n",
              "  <style>\n",
              "    .colab-df-container {\n",
              "      display:flex;\n",
              "      flex-wrap:wrap;\n",
              "      gap: 12px;\n",
              "    }\n",
              "\n",
              "    .colab-df-convert {\n",
              "      background-color: #E8F0FE;\n",
              "      border: none;\n",
              "      border-radius: 50%;\n",
              "      cursor: pointer;\n",
              "      display: none;\n",
              "      fill: #1967D2;\n",
              "      height: 32px;\n",
              "      padding: 0 0 0 0;\n",
              "      width: 32px;\n",
              "    }\n",
              "\n",
              "    .colab-df-convert:hover {\n",
              "      background-color: #E2EBFA;\n",
              "      box-shadow: 0px 1px 2px rgba(60, 64, 67, 0.3), 0px 1px 3px 1px rgba(60, 64, 67, 0.15);\n",
              "      fill: #174EA6;\n",
              "    }\n",
              "\n",
              "    [theme=dark] .colab-df-convert {\n",
              "      background-color: #3B4455;\n",
              "      fill: #D2E3FC;\n",
              "    }\n",
              "\n",
              "    [theme=dark] .colab-df-convert:hover {\n",
              "      background-color: #434B5C;\n",
              "      box-shadow: 0px 1px 3px 1px rgba(0, 0, 0, 0.15);\n",
              "      filter: drop-shadow(0px 1px 2px rgba(0, 0, 0, 0.3));\n",
              "      fill: #FFFFFF;\n",
              "    }\n",
              "  </style>\n",
              "\n",
              "      <script>\n",
              "        const buttonEl =\n",
              "          document.querySelector('#df-616b198d-4e78-435c-8d7f-9fe72648d693 button.colab-df-convert');\n",
              "        buttonEl.style.display =\n",
              "          google.colab.kernel.accessAllowed ? 'block' : 'none';\n",
              "\n",
              "        async function convertToInteractive(key) {\n",
              "          const element = document.querySelector('#df-616b198d-4e78-435c-8d7f-9fe72648d693');\n",
              "          const dataTable =\n",
              "            await google.colab.kernel.invokeFunction('convertToInteractive',\n",
              "                                                     [key], {});\n",
              "          if (!dataTable) return;\n",
              "\n",
              "          const docLinkHtml = 'Like what you see? Visit the ' +\n",
              "            '<a target=\"_blank\" href=https://colab.research.google.com/notebooks/data_table.ipynb>data table notebook</a>'\n",
              "            + ' to learn more about interactive tables.';\n",
              "          element.innerHTML = '';\n",
              "          dataTable['output_type'] = 'display_data';\n",
              "          await google.colab.output.renderOutput(dataTable, element);\n",
              "          const docLink = document.createElement('div');\n",
              "          docLink.innerHTML = docLinkHtml;\n",
              "          element.appendChild(docLink);\n",
              "        }\n",
              "      </script>\n",
              "    </div>\n",
              "  </div>\n",
              "  "
            ],
            "text/plain": [
              "                                                                                                                                                                                                                                                                                                             0\n",
              "0  FROM:MR. JAMES NGOLA.\\nCONFIDENTIAL TEL: 233-27-587908.\\nE-MAIL: (james_ngola2002@maktoob.com).\\n\\nURGENT BUSINESS ASSISTANCE AND PARTNERSHIP.\\n\\n\\nDEAR FRIEND,\\n\\nI AM ( DR.) JAMES NGOLA, THE PERSONAL ASSISTANCE TO THE LATE CONGOLESE (PRESIDENT LAURENT KABILA) WHO WAS ASSASSINATED BY HIS BODY G...\n",
              "1  Dear Friend,\\n\\nI am Mr. Ben Suleman a custom officer and work as Assistant controller of the Customs and Excise department Of the Federal Ministry of Internal Affairs stationed at the Murtala Mohammed International Airport, Ikeja, Lagos-Nigeria.\\n\\nAfter the sudden death of the former Head of s...\n",
              "2  FROM HIS ROYAL MAJESTY (HRM) CROWN RULER OF ELEME KINGDOM \\nCHIEF DANIEL ELEME, PHD, EZE 1 OF ELEME.E-MAIL \\nADDRESS:obong_715@epatra.com  \\n\\nATTENTION:PRESIDENT,CEO Sir/ Madam. \\n\\nThis letter might surprise you because we have met\\nneither in person nor by correspondence. But I believe\\nit is...\n",
              "3  FROM HIS ROYAL MAJESTY (HRM) CROWN RULER OF ELEME KINGDOM \\nCHIEF DANIEL ELEME, PHD, EZE 1 OF ELEME.E-MAIL \\nADDRESS:obong_715@epatra.com  \\n\\nATTENTION:PRESIDENT,CEO Sir/ Madam. \\n\\nThis letter might surprise you because we have met\\nneither in person nor by correspondence. But I believe\\nit is...\n",
              "4  Dear sir, \\n \\nIt is with a heart full of hope that I write to seek your help in respect of the context below. I am Mrs. Maryam Abacha the former first lady of the former Military Head of State of Nigeria General Sani Abacha whose sudden death occurred on 8th of June 1998 as a result of cardiac ..."
            ]
          },
          "metadata": {},
          "execution_count": 25
        }
      ]
    },
    {
      "cell_type": "code",
      "source": [
        "EnronEmails = bodies_df.iloc[:,0].apply(tokenize)\n",
        "EnronEmails = EnronEmails.apply(stop_word_removal)\n",
        "EnronEmails = EnronEmails.apply(reg_expressions)\n",
        "EnronEmails = EnronEmails.sample(Nsamp)\n",
        "\n",
        "SpamEmails = fraud_bodies_df.iloc[:,0].apply(tokenize)\n",
        "SpamEmails = SpamEmails.apply(stop_word_removal)\n",
        "SpamEmails = SpamEmails.apply(reg_expressions)\n",
        "SpamEmails = SpamEmails.sample(Nsamp)\n",
        "\n",
        "raw_data = pd.concat([SpamEmails,EnronEmails], axis=0).values"
      ],
      "metadata": {
        "id": "d8qDSdEhAjeK"
      },
      "execution_count": 26,
      "outputs": []
    },
    {
      "cell_type": "code",
      "source": [
        "print(\"Shape of combined data represented as numpy array is:\")\n",
        "print(raw_data.shape)\n",
        "print(\"Data represented as numpy array is:\")\n",
        "print(raw_data)\n",
        "\n",
        "# corresponding labels\n",
        "Categories = ['spam','notspam']\n",
        "header = ([1]*Nsamp)\n",
        "header.extend(([0]*Nsamp))"
      ],
      "metadata": {
        "colab": {
          "base_uri": "https://localhost:8080/"
        },
        "id": "oynzlzt-AlVV",
        "outputId": "90a896d1-b0b5-42d4-eb77-e116fbde22ce"
      },
      "execution_count": 27,
      "outputs": [
        {
          "output_type": "stream",
          "name": "stdout",
          "text": [
            "Shape of combined data represented as numpy array is:\n",
            "(2000,)\n",
            "Data represented as numpy array is:\n",
            "[list(['', 'tayo', 'rimimedinadakar', 'senegal', 'my', 'dear', 'friend', 'compliments', 'of', 'seasoni', 'like', 'send', 'best', 'wishes', 'good', 'health', 'and', 'success', 'pursuits', 'particularly', 'proposal', 'contained', 'letter', 'may', 'wish', 'disclose', 'i', 'got', 'email', 'address', 'now', 'after', 'due', 'deliberation', 'soni', 'decided', 'forward', 'business', 'proposal', 'want', 'assist', 'us', 'i', 'give', 'information', 'as', 'regard', 'soon', 'replyi', 'am', 'mrs', 'rita', 'diatta', '', 'i', 'contacting', 'hope', 'be', 'great', 'assistance', 'meyour', 'urgent', 'response', 'neededregards', 'and', 'god', 'bless', 'youmrsrita', 'diatta'])\n",
            " list(['confidentialdear', 'siri', 'franck', 'camara', 'son', 'late', 'former', 'director', 'financemrcamara', 'kingston', 'sierraleone', 'diamond', 'mining', 'corporation', 'i', 'must', 'confessmy', 'agitation', 'real', 'words', 'bond', 'proposalmy', 'late', 'father', 'diverted', 'money', 'meant', 'purchase', 'ammunition', 'country', 'peak', 'disastrous', 'civil', 'war', 'country', 'hehas', 'deposited', 'money', 'bank', 'abidjan', 'i', 'residing', 'political', 'asylum', 'younger', 'sisternow', 'war', 'country', 'help', 'ecomog', 'soldiers', 'present', 'government', 'sierra', 'leone', 'revoked', 'passport', 'officerswho', 'served', 'former', 'regime', 'ask', 'countries', 'expel', 'person', 'time', 'freeze', 'account', 'confiscate', 'assetit', 'note', 'i', 'contacting', 'you', 'i', 'needed', 'furnish', 'bank', 'particulars', 'account', 'name', 'account', 'number', 'bank', 'address', 'telephone', 'fax', 'number', 'easy', 'communicationfor', 'assist', 'transfer', 'money', 'private', 'bank', 'account', 'said', 'amount', 'nine', 'million', 'dollars', '', 'million', 'i', 'compensating', 'with', '', 'total', 'money', 'amount', 'hope'])\n",
            " list(['from', 'the', 'desk', 'ofmrs', 'susan', 'shubangadeputy', 'minister', 'safety', 'securitysouth', 'africaafter', 'due', 'deliberation', 'children', 'i', 'decided', 'tocontact', 'assistance', 'standing', 'abeneficiary', 'millions', 'dollars', 'firstlet', 'start', 'introducing', 'myself', 'i', 'mrs', 'susan', 'shubangaa', 'mother', 'three', 'children', 'former', 'deputy', 'minister', 'ofminerals', 'energynow', 'deputy', 'minister', 'safety', 'securityunder', 'president', 'south', 'african', 'mr', 'thabombeki', 'you', 'view', 'profile', 'websitehttpwwwgovzagolgcis_profilejspidafter', 'swearing', 'ceremony', 'making', 'deputyminister', 'minerals', 'energy', '', 'husband', 'mrndelebe', 'shabangu', 'died', 'official', 'trip', 'totrinidad', 'tobago', '', 'after', 'death', 'i', 'discovered', 'thathe', 'funds', 'dollars', 'financial', 'institutethis', 'fund', 'emanated', 'result', 'overinvoiced', 'contractwhich', 'executed', 'government', 'south', 'africathough', 'i', 'assisted', 'getting', 'contract', 'i', 'neverknew', 'overinvoiced', 'him', 'i', 'afraid', 'thegovernment', 'south', 'africa', 'might', 'start', 'investigate', 'oncontracts', 'awarded', '', 'date', 'if', 'discoverthis', 'money', 'bank', 'accountthey', 'confiscate', 'andseize', 'assets', 'south', 'africa', 'definetelyaffect', 'political', 'career'])\n",
            " ...\n",
            " list(['donbelow', 'information', 'i', 'need', 'arch', 'wireless', 'enron', 'andrunning', 'pager', 'system', 'vermont', 'yankeecontact', 'propertiescontact', 'name', '', 'im', 'assuming', 'thats', 'going', 'you', 'if', 'going', 'tobe', 'holding', 'pager', 'times', 'may', 'want', 'generic', 'contactnamepager', 'idpin', 'please', 'verify', 'i', 'need', 'use', '', 'digits', 'do', 'i', 'need', 'hyphenscarrier', 'namephone', 'numberthis', 'needs', '', '', 'numbermax', 'characters', 'service', 'typealpha', 'numericbaud', 'ratesettingswe', 'use', 'airsource', 'pro', 'software', 'modem', 'settings', 'followsgateway', 'telepath', 'modemcommandsatfknexthe', 'modem', 'commands', 'carrier', 'specific', 'i', 'need', 'command', 'string', 'tobe', 'compatible', 'following', 'carriersrinkerscvc', 'pagingarchcontactthe', 'backup', 'system', 'weve', 'put', 'place', 'following', 'modem', 'settingsgateway', '', 'telepath', 'ii', 'fax', 'modematcdkmnqvi', 'hope', 'helps', 'regarding', 'information', 'hope', 'toooverwhelmingplease', 'contact', '', '', 'via', 'email', 'questionsthanks', 'help', 'id', 'like', 'runner', 'endof', 'next', 'weektake', 'carebobbi', 'j', 'kilburntreasury', '', 'risk', 'administratorvermont', 'yankee', 'nuclear', 'power', 'corporation', 'bobbikilburnvynpccom'])\n",
            " list(['the', 'flight', 'uneventful', 'although', 'i', 'sleep', 'much', 'weather', 'is', 'cold', 'clear', 'i', 'enjoying', 'it', 'very', 'useful', 'trip', '', 'schedule', 'full', 'including', 'dinners', 'every', 'night', 'i', 'office', 'through', 'end', 'day', 'thursday', 'dinner', 'fernley', 'thursday', 'night', 'i', 'will', 'route', 'houston', 'friday', '', 'catching', 'am', 'flight', 'told', 'kids', 'i', 'would', 'airport', '', 'houston', 'time', 'start', 'back', 'home', 'we', 'going', 'follow', 'keanolson', 'memo', 'communicating', 'ratings', 'we', 'will', 'communicate', 'needs', 'improvement', 'issues', 'there', 'differing', 'messages', 'needs', 'improvement', 'fit', 'situation', '', 'need', 'hear', 'that', 'performing', 'high', 'enough', 'level', 'relative', 'peers', 'help', 'us', 'achieve', 'business', 'goals', 'considered', 'bonus', 'may', 'need', 'find', 'another', 'role', 'within', 'outside', 'enron', 'better', 'fit', 'message', 'someone', 'new', 'enron', 'category', 'different', 'glad', 'here', 'believe', 'learn', 'organization', 'job'])\n",
            " list(['jacquesi', 'need', 'pull', 'together', 'bishops', 'corner', 'organization', 'documents', 'close', 'bank', 'loan', 'did', 'keith', 'i', 'take', 'originals', 'leave', 'you', 'i', 'know', 'still', 'need', 'issue', 'shares', 'gpplease', 'drop', 'notephillip', 'allen'])]\n"
          ]
        }
      ]
    },
    {
      "cell_type": "code",
      "source": [
        "# function for shuffling data in unison with labels/header\n",
        "def unison_shuffle(a, b):\n",
        "    p = np.random.permutation(len(b))\n",
        "    data = a[p]\n",
        "    header = np.asarray(b)[p]\n",
        "    return data, header\n",
        "\n",
        "# function for converting data into the right format, due to the difference in required format from sklearn models\n",
        "# we expect a single string per email here, versus a list of tokens for the sklearn models previously explored\n",
        "def convert_data(raw_data,header):\n",
        "    converted_data, labels = [], []\n",
        "    for i in range(raw_data.shape[0]):\n",
        "        out = ' '.join(raw_data[i])\n",
        "        converted_data.append(out)\n",
        "        labels.append(header[i])\n",
        "        #print(i)\n",
        "    converted_data = np.array(converted_data, dtype=object)[:, np.newaxis]\n",
        "    \n",
        "    return converted_data, np.array(labels)\n",
        "\n",
        "raw_data, header = unison_shuffle(raw_data, header)\n",
        "\n",
        "# split into independent 70% training and 30% testing sets\n",
        "idx = int(0.7*raw_data.shape[0])\n",
        "# 70% of data for training\n",
        "train_x, train_y = convert_data(raw_data[:idx],header[:idx])\n",
        "# remaining 30% for testing\n",
        "test_x, test_y = convert_data(raw_data[idx:],header[idx:])\n",
        "\n",
        "print(\"train_x/train_y list details, to make sure it is of the right form:\")\n",
        "print(len(train_x))\n",
        "print(train_x)\n",
        "print(train_y[:5])\n",
        "print(train_y.shape)"
      ],
      "metadata": {
        "colab": {
          "base_uri": "https://localhost:8080/"
        },
        "id": "xRGs_OXPAoaM",
        "outputId": "29c36b4e-55da-4907-8791-5c2cfd087490"
      },
      "execution_count": 28,
      "outputs": [
        {
          "output_type": "stream",
          "name": "stdout",
          "text": [
            "train_x/train_y list details, to make sure it is of the right form:\n",
            "1400\n",
            "[['froma barrister jim douglaseattorneysflegal practitioner dakar senegal dear friendccompliments daye grace peace lovefrom part atlantice dear friendci barrister jim douglasc solicitor advocatec personal attorney late mre neil frazer national francec used private contractor shell petroleum development company senegalc herein shall referred cliente on st of april c wife three children involved in auto crashc occupants vehicle unfortunately lost livesesince thenc i made several enquiries countrys embassies to locate clients extended relativesa this proved unsuccessfule after several unsuccessful attemptsc i decided contact you business partnership proposale i contacted assist repatriating huge amount money left behind client before get confiscated declared unserviceable financefsecurity company huge deposit lodgede the deceased deposit valued presently million us dollars company issued notice provide next kin beneficiary will otherwise']\n",
            " ['dear friendcmy name barrister john mensahc  years ghanaianmarried five childrene i work anadministrative secretaryfattorney globalsecurity company ltd accra ghanae i joined theservices company ei got information concerning companyfrom chamber commerce dueconsultationc i decided contact believing thatby grace god mypartner businesse i worked thiscompany  yearsc within period timei watched meticulous precision onhow african head state government functionarieshave moving huge sums money dollarsc poundsterlingc french francc cashwith aid theirforeign partners abroadethey bring consignment money cash andsecretly declare content jewelriesc goldcprecious stonesc family treasurec documentscetcemobutu sese seko zairec fodey sankoy sierraleonec felixhouphet buigny ivory coastc konnan bedeof ivory coastc etcethese people one time otherdepositedconsignments withus foreignpartnersc relatives next kin claiming mostof consignment lot laying hereunclaimed much  yearsc availableinformation anybody except depositorsc mostof deade since inception yearc']\n",
            " ['']\n",
            " ...\n",
            " ['from mr colin mathewhead of departmentbank of scotlandunited kingdomcontact collinmathewmywaycomdear partnerin order to transfer out  fifteenmillion pounds sterlings from ourbank here in london i have the courage to look for a reliable andhonest person who will be capable for this important businesstransactionbelieving that you will never let me down either now or infuturehow the money cames aboutthe owner of this account is mr john hughes a foreigner and the manager ofpetrol chemical service here in londona chemical engineer by proffessionand he died since the account has no other beneficiary and myinvestigation proved to me as well that his company does not know anythingabout this account and the amount involved is poundssterlingsi want to transfer this money into a safe foreign account abroad but idont know any foreigneri know that this message will come to you as asurprise as we dont know our self beforebut be sure that it is real anda genuine businessif you are interested reply me immedately to my private email contactcollinmathewmywaycomi shall proviude you with more details andrealevant document that will effect the transactionyour full contact phone and fax number name will be necessary for thiseffecthope to hear from you immediatelythanksmr collin mathew']\n",
            " [' forwarded kayne coulterhouect   am  from mitch robinson  enron   amto kayne coulterhouectectcc subject weekly monitoring report forwarded mitch robinsoncorpenron   am george hopleyect  amto paul j broderickhouectect peter makkainaenronenron eric saibicorpenronenron juan padronnaenronenron clint deancorpenronenron grace kimnaenronenron doug gilbertsmithcorpenronenron joe quenetnaenronenron chris dorlandhouectect jeffrey millernaenronenron robert bensoncorpenronenron mike carsoncorpenronenron laura podurgielhouectect larry valderramahouectect matt lorenzhouectect larry jestercorpenronenron robert stalfordnaenronenron tom maycorpenronenron gautam guptahouectect narsimha misranaenronenron lloyd willhouectect rika imainaenronenron mitch robinsoncorpenronenron ricardo pereznaenronenron christopher wattsnaenronenroncc subject weekly monitoring report forwarded george hopleyhouect   am hgp inc hgpbushomecom   amto kevinmprestoenroncom georgehopleyenroncom markdanadavisenroncom fsturmenroncom rogersherndonenroncomcc subject weekly monitoring reportattached two files providing weekly monitoring report onefile includes summary page file detail foreach unit monitoredthe monitoring report eight western units sent timbeldenif questions please calldan  east summary doc  eastdoc']\n",
            " [' my name mr oliver f paul i work international operation department alocal bank nigeria on routine inspection i discovered dormantdomiciliary account balance  usd twenty six million usd onfurther discreet investigation i also discovered accountholder long passed away dead leaving beneficiary accountthe bank approve money foreigner former operator ofthe account foreigner he died car accident nine years ago nobody else knowsabout funds foreigner legal documents account claimthis money thats i need cooperation transactioni provide necessary information needed order claim money but youwill need provide account money transferredi wish utmost confidentiality handling transaction']]\n",
            "[1 1 1 1 1]\n",
            "(1400,)\n"
          ]
        }
      ]
    },
    {
      "cell_type": "code",
      "source": [
        "def build_model(max_seq_length):\n",
        "    # tf hub bert model path\n",
        "    bert_path = \"https://tfhub.dev/tensorflow/bert_en_uncased_L-12_H-768_A-12/4\" \n",
        "\n",
        "    text_input = tf.keras.layers.Input(shape=(), dtype=tf.string)\n",
        "    \n",
        "    \n",
        "    preprocessor = hub.KerasLayer(\n",
        "    \"https://tfhub.dev/tensorflow/bert_en_uncased_preprocess/3\")\n",
        "    encoder_inputs = preprocessor(text_input)\n",
        "    encoder = hub.KerasLayer(bert_path,trainable=False)\n",
        "    outputs = encoder(encoder_inputs)\n",
        "    pooled_output = outputs[\"pooled_output\"]      # [batch_size, 768].\n",
        "    sequence_output = outputs[\"sequence_output\"]  # [batch_size, seq_length, 768].# just extract BERT features\n",
        "    \n",
        "    # train dense classification layer on top of extracted pooled output features\n",
        "    dense = tf.keras.layers.Dense(256, activation=\"relu\")(pooled_output)\n",
        "    pred = tf.keras.layers.Dense(1, activation=\"sigmoid\")(dense)\n",
        "\n",
        "    model = tf.keras.Model(inputs=text_input, outputs=pred)\n",
        "    model.compile(loss=\"binary_crossentropy\", optimizer=\"adam\", metrics=[\"accuracy\"])\n",
        "    model.summary()\n",
        "\n",
        "    return model"
      ],
      "metadata": {
        "id": "pMm8W7y2x9kg"
      },
      "execution_count": 30,
      "outputs": []
    },
    {
      "cell_type": "code",
      "source": [
        "model = build_model(maxtokens)\n",
        "\n",
        "\n",
        "TRAINING = True\n",
        "if TRAINING:\n",
        "  history = model.fit(train_x,train_y,validation_data=(test_x,test_y),epochs=5,batch_size=32)\n",
        "  # model.save(\"my_model\")\n",
        "else:\n",
        "  keras.models.load_model(\"my_model\")\n"
      ],
      "metadata": {
        "colab": {
          "base_uri": "https://localhost:8080/"
        },
        "id": "a4VYeAElyCFr",
        "outputId": "fde77f59-69a8-45aa-e927-dc75eeb5fa54"
      },
      "execution_count": 34,
      "outputs": [
        {
          "output_type": "stream",
          "name": "stdout",
          "text": [
            "Model: \"model_1\"\n",
            "__________________________________________________________________________________________________\n",
            " Layer (type)                   Output Shape         Param #     Connected to                     \n",
            "==================================================================================================\n",
            " input_3 (InputLayer)           [(None,)]            0           []                               \n",
            "                                                                                                  \n",
            " keras_layer_3 (KerasLayer)     {'input_mask': (Non  0           ['input_3[0][0]']                \n",
            "                                e, 128),                                                          \n",
            "                                 'input_word_ids':                                                \n",
            "                                (None, 128),                                                      \n",
            "                                 'input_type_ids':                                                \n",
            "                                (None, 128)}                                                      \n",
            "                                                                                                  \n",
            " keras_layer_4 (KerasLayer)     {'default': (None,   109482241   ['keras_layer_3[0][0]',          \n",
            "                                768),                             'keras_layer_3[0][1]',          \n",
            "                                 'pooled_output': (               'keras_layer_3[0][2]']          \n",
            "                                None, 768),                                                       \n",
            "                                 'encoder_outputs':                                               \n",
            "                                 [(None, 128, 768),                                               \n",
            "                                 (None, 128, 768),                                                \n",
            "                                 (None, 128, 768),                                                \n",
            "                                 (None, 128, 768),                                                \n",
            "                                 (None, 128, 768),                                                \n",
            "                                 (None, 128, 768),                                                \n",
            "                                 (None, 128, 768),                                                \n",
            "                                 (None, 128, 768),                                                \n",
            "                                 (None, 128, 768),                                                \n",
            "                                 (None, 128, 768),                                                \n",
            "                                 (None, 128, 768),                                                \n",
            "                                 (None, 128, 768)],                                               \n",
            "                                 'sequence_output':                                               \n",
            "                                 (None, 128, 768)}                                                \n",
            "                                                                                                  \n",
            " dense_2 (Dense)                (None, 256)          196864      ['keras_layer_4[0][13]']         \n",
            "                                                                                                  \n",
            " dense_3 (Dense)                (None, 1)            257         ['dense_2[0][0]']                \n",
            "                                                                                                  \n",
            "==================================================================================================\n",
            "Total params: 109,679,362\n",
            "Trainable params: 197,121\n",
            "Non-trainable params: 109,482,241\n",
            "__________________________________________________________________________________________________\n",
            "Epoch 1/5\n",
            "44/44 [==============================] - 63s 1s/step - loss: 0.5500 - accuracy: 0.7179 - val_loss: 0.3934 - val_accuracy: 0.8750\n",
            "Epoch 2/5\n",
            "44/44 [==============================] - 50s 1s/step - loss: 0.3264 - accuracy: 0.8871 - val_loss: 0.3087 - val_accuracy: 0.8917\n",
            "Epoch 3/5\n",
            "44/44 [==============================] - 53s 1s/step - loss: 0.2676 - accuracy: 0.9014 - val_loss: 0.2885 - val_accuracy: 0.9067\n",
            "Epoch 4/5\n",
            "44/44 [==============================] - 51s 1s/step - loss: 0.2251 - accuracy: 0.9286 - val_loss: 0.2329 - val_accuracy: 0.9183\n",
            "Epoch 5/5\n",
            "44/44 [==============================] - 50s 1s/step - loss: 0.2064 - accuracy: 0.9314 - val_loss: 0.2225 - val_accuracy: 0.9133\n"
          ]
        }
      ]
    },
    {
      "cell_type": "code",
      "source": [
        "tf.keras.utils.plot_model(model)"
      ],
      "metadata": {
        "colab": {
          "base_uri": "https://localhost:8080/",
          "height": 466
        },
        "id": "UqjUauCjKtFB",
        "outputId": "5328a695-60e5-4b15-d94b-0f080c21ccfb"
      },
      "execution_count": 35,
      "outputs": [
        {
          "output_type": "execute_result",
          "data": {
            "image/png": "[encoded data removed]",
            "text/plain": [
              "<IPython.core.display.Image object>"
            ]
          },
          "metadata": {},
          "execution_count": 35
        }
      ]
    },
    {
      "cell_type": "code",
      "source": [
        "def rating2(raw, api_key):\n",
        "  body = str(get_body(raw))\n",
        "  links = checkLinks(api_key,body)\n",
        "  latest = pd.DataFrame([body])\n",
        "  latest = latest.iloc[:,0].apply(tokenize)\n",
        "  latest = latest.apply(stop_word_removal)\n",
        "  latest = latest.apply(reg_expressions)\n",
        "  latest = latest.sample(Nsamp)\n",
        "  proba = model.predict(latest)[0]\n",
        "  print(proba)\n",
        "  proba =  links*0.45 + proba*0.55\n",
        "  if proba <0.4:\n",
        "    return \"Not suspicious.\"\n",
        "  elif proba >0.6:\n",
        "    return \"Highly suspicious.\"\n",
        "  else:\n",
        "    return \"Might be suspicious\""
      ],
      "metadata": {
        "id": "rSl_ObEIOPhS"
      },
      "execution_count": 42,
      "outputs": []
    },
    {
      "cell_type": "code",
      "source": [
        "\n",
        "df_history = pd.DataFrame(history.history)\n",
        "fig,ax = plt.subplots()\n",
        "plt.plot(range(df_history.shape[0]),df_history['val_accuracy'],'bs--',label='validation')\n",
        "plt.plot(range(df_history.shape[0]),df_history['accuracy'],'r^--',label='training')\n",
        "plt.xlabel('epoch')\n",
        "plt.ylabel('accuracy')\n",
        "plt.title('BERT Email Classification Training')\n",
        "plt.legend(loc='best')\n",
        "plt.grid()\n",
        "plt.show()\n",
        "\n",
        "fig.savefig('BERTConvergence.eps', format='eps')\n",
        "fig.savefig('BERTConvergence.pdf', format='pdf')\n",
        "fig.savefig('BERTConvergence.png', format='png')\n",
        "fig.savefig('BERTConvergence.svg', format='svg')"
      ],
      "metadata": {
        "colab": {
          "base_uri": "https://localhost:8080/",
          "height": 350
        },
        "id": "ZEjMlFnMAsnO",
        "outputId": "3a62285e-e2d8-447f-b81d-a07e9abbde74"
      },
      "execution_count": 37,
      "outputs": [
        {
          "output_type": "display_data",
          "data": {
            "image/png": "[encoded data removed]",
            "text/plain": [
              "<Figure size 432x288 with 1 Axes>"
            ]
          },
          "metadata": {
            "needs_background": "light"
          }
        },
        {
          "output_type": "stream",
          "name": "stderr",
          "text": [
            "WARNING:matplotlib.backends.backend_ps:The PostScript backend does not support transparency; partially transparent artists will be rendered opaque.\n",
            "WARNING:matplotlib.backends.backend_ps:The PostScript backend does not support transparency; partially transparent artists will be rendered opaque.\n"
          ]
        }
      ]
    },
    {
      "cell_type": "code",
      "source": [
        "def checkLinks(api_key, body):\n",
        "  result = re.findall(r\"https?://.*\", body)\n",
        "  api = Maltiverse(auth_token=api_key)\n",
        "  links = []\n",
        "  for link in result:\n",
        "    end = 0\n",
        "    start = 8\n",
        "    for i in range(start, len(link) - 3):\n",
        "      if result[0][i:i+3] == \"com\":\n",
        "        end = i+3\n",
        "        break\n",
        "    links.append(link[start:end])\n",
        "  links = list(set(links))\n",
        "  shady = 0\n",
        "  for i in links:\n",
        "    result = api.hostname_get(\"img.mailinblue.com\")[\"classification\"]\n",
        "    if result == \"malicious\":\n",
        "      shady = 1 \n",
        "      break\n",
        "    elif result == \"suspicious\" and shady !=1:\n",
        "      shady = 0.8\n",
        "  return shady\n"
      ],
      "metadata": {
        "id": "H8h_DZsT2tja"
      },
      "execution_count": 38,
      "outputs": []
    },
    {
      "cell_type": "code",
      "source": [
        "def rating(raw, api_key):\n",
        "  body = str(get_body(raw))\n",
        "  links = checkLinks(api_key,body)\n",
        "  latest = [body]\n",
        "  proba = model.predict(latest)[0]\n",
        "  print(proba)\n",
        "  proba =  links*0.45 + proba*0.55\n",
        "  if proba <0.4:\n",
        "    return \"Not suspicious.\"\n",
        "  elif proba >0.6:\n",
        "    return \"Highly suspicious.\"\n",
        "  else:\n",
        "    return \"Might be suspicious\"\n",
        "  \n"
      ],
      "metadata": {
        "id": "zSW5djmczjGs"
      },
      "execution_count": 39,
      "outputs": []
    },
    {
      "cell_type": "markdown",
      "source": [
        "# To loop"
      ],
      "metadata": {
        "id": "oP7se4KUwwa1"
      }
    },
    {
      "cell_type": "code",
      "source": [
        "cur = 16\n",
        "while(True):\n",
        "  imap = imaplib.IMAP4_SSL(secretKeys.imap_host)\n",
        "  imap.login(secretKeys.imap_user, secretKeys.imap_pass)\n",
        "  imap.select('Inbox')\n",
        "  tmp, data = imap.search(None, 'ALL')\n",
        "  inbox = data[0].split()\n",
        "  if len(inbox) != cur:\n",
        "    tmp, data = imap.fetch(inbox[cur], '(RFC822)')\n",
        "    raw = email.message_from_bytes(data[0][1])\t\n",
        "    body = get_body(raw)\n",
        "    verdict = rating(raw, secretKeys.api_key)\n",
        "    response(verdict, raw, secretKeys.user, secretKeys.user_pass)\n",
        "    cur +=1\n",
        "  time.sleep(60)\n",
        "  imap.close()"
      ],
      "metadata": {
        "colab": {
          "base_uri": "https://localhost:8080/"
        },
        "id": "IJKCJdzZw0O7",
        "outputId": "f4f831cb-8558-4732-cb47-05ba66c511ea"
      },
      "execution_count": null,
      "outputs": [
        {
          "output_type": "stream",
          "name": "stdout",
          "text": [
            "[0.50200796]\n",
            "[0.3486635]\n",
            "[0.8418405]\n",
            "[0.8418405]\n",
            "[0.11906041]\n"
          ]
        }
      ]
    },
    {
      "cell_type": "code",
      "source": [
        ""
      ],
      "metadata": {
        "id": "04f8c0dXNdtt"
      },
      "execution_count": null,
      "outputs": []
    },
    {
      "cell_type": "code",
      "source": [
        "files.download('/content/my_model')"
      ],
      "metadata": {
        "id": "kvr1aaXVNjLi"
      },
      "execution_count": null,
      "outputs": []
    },
    {
      "cell_type": "code",
      "source": [
        "from google.colab import files\n",
        "!zip -r /content/file.zip /content/my_model"
      ],
      "metadata": {
        "colab": {
          "base_uri": "https://localhost:8080/"
        },
        "id": "yRKXayOoNtEC",
        "outputId": "70d4b63b-7c04-41ee-b78f-fc73c43a7ac8"
      },
      "execution_count": null,
      "outputs": [
        {
          "output_type": "stream",
          "name": "stdout",
          "text": [
            "  adding: content/my_model/ (stored 0%)\n",
            "  adding: content/my_model/assets/ (stored 0%)\n",
            "  adding: content/my_model/assets/vocab.txt (deflated 53%)\n",
            "  adding: content/my_model/keras_metadata.pb (deflated 85%)\n",
            "  adding: content/my_model/saved_model.pb (deflated 92%)\n",
            "  adding: content/my_model/variables/ (stored 0%)\n",
            "  adding: content/my_model/variables/variables.index (deflated 79%)\n",
            "  adding: content/my_model/variables/variables.data-00000-of-00001 (deflated 8%)\n"
          ]
        }
      ]
    },
    {
      "cell_type": "code",
      "source": [
        "files.download('/content/file.zip')"
      ],
      "metadata": {
        "colab": {
          "base_uri": "https://localhost:8080/",
          "height": 17
        },
        "id": "mg5LxBZPOHGO",
        "outputId": "872b922f-f4c8-4a80-955a-2452d61a1a07"
      },
      "execution_count": null,
      "outputs": [
        {
          "output_type": "display_data",
          "data": {
            "application/javascript": [
              "\n",
              "    async function download(id, filename, size) {\n",
              "      if (!google.colab.kernel.accessAllowed) {\n",
              "        return;\n",
              "      }\n",
              "      const div = document.createElement('div');\n",
              "      const label = document.createElement('label');\n",
              "      label.textContent = `Downloading \"${filename}\": `;\n",
              "      div.appendChild(label);\n",
              "      const progress = document.createElement('progress');\n",
              "      progress.max = size;\n",
              "      div.appendChild(progress);\n",
              "      document.body.appendChild(div);\n",
              "\n",
              "      const buffers = [];\n",
              "      let downloaded = 0;\n",
              "\n",
              "      const channel = await google.colab.kernel.comms.open(id);\n",
              "      // Send a message to notify the kernel that we're ready.\n",
              "      channel.send({})\n",
              "\n",
              "      for await (const message of channel.messages) {\n",
              "        // Send a message to notify the kernel that we're ready.\n",
              "        channel.send({})\n",
              "        if (message.buffers) {\n",
              "          for (const buffer of message.buffers) {\n",
              "            buffers.push(buffer);\n",
              "            downloaded += buffer.byteLength;\n",
              "            progress.value = downloaded;\n",
              "          }\n",
              "        }\n",
              "      }\n",
              "      const blob = new Blob(buffers, {type: 'application/binary'});\n",
              "      const a = document.createElement('a');\n",
              "      a.href = window.URL.createObjectURL(blob);\n",
              "      a.download = filename;\n",
              "      div.appendChild(a);\n",
              "      a.click();\n",
              "      div.remove();\n",
              "    }\n",
              "  "
            ],
            "text/plain": [
              "<IPython.core.display.Javascript object>"
            ]
          },
          "metadata": {}
        },
        {
          "output_type": "display_data",
          "data": {
            "application/javascript": [
              "download(\"download_875d8166-6655-47ce-adc7-2aa6d7cf83f4\", \"file.zip\", 410807174)"
            ],
            "text/plain": [
              "<IPython.core.display.Javascript object>"
            ]
          },
          "metadata": {}
        }
      ]
    },
    {
      "cell_type": "code",
      "source": [
        ""
      ],
      "metadata": {
        "id": "zOsY204VOP79"
      },
      "execution_count": null,
      "outputs": []
    }
  ]
}